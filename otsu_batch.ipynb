{
 "cells": [
  {
   "cell_type": "markdown",
   "metadata": {},
   "source": [
    "# [Lab Session 2](otsu.ipynb)"
   ]
  },
  {
   "cell_type": "code",
   "execution_count": 49,
   "metadata": {},
   "outputs": [],
   "source": [
    "import numpy as np\n",
    "import matplotlib.pyplot as plt\n"
   ]
  },
  {
   "cell_type": "markdown",
   "metadata": {},
   "source": [
    "**[Task 2.1.]()** Implement Otsu thresholding as a re-usable function:"
   ]
  },
  {
   "cell_type": "code",
   "execution_count": 59,
   "metadata": {},
   "outputs": [],
   "source": [
    "#h nochmal definieren\n",
    "def compute_histogram(img8):\n",
    "    h = np.zeros(256, dtype=int) #erstmal ein leerer Array, in den die Intensitätswerte hinein sollen\n",
    "    for i in range(256): #es geht um die Intensitätswerte i über das gesamte Bild, das 256 Werte beinhaltet\n",
    "        h[i] = np.sum(img8 == i) #aufsummieren der Intensitätswerte und speichern im Index vom h, das ihren jeweiligen Intensität wiedergibt\n",
    "    return(h)\n",
    "\n",
    "\n",
    "def otsu_thresholding(imgf):\n",
    "    img8 = (imgf * 255).round().astype(np.uint8)\n",
    "\n",
    "    #berechnen des Hist\n",
    "    h = compute_histogram(img8)\n",
    "\n",
    "\n",
    "    #Leerer Array, in dem der T mit min gespeichert wird\n",
    "    minimal_T = np.array(0)\n",
    "    #Anzahl aller Pixel\n",
    "    total_pixels = np.sum(h)\n",
    "    # Hilfsvariablen für die Berechnung\n",
    "    T_values = range(1, 256)  # Schwellenwerte von 1 bis 255\n",
    "    min_within_class_variance = float(\"inf\")  # Minimaler Wert\n",
    "\n",
    "    for T in T_values:\n",
    "        # Klasse 1: Bereich [0, T-1]\n",
    "        n1 = np.sum(h[0:T])  # Anzahl Pixel in Klasse 1\n",
    "        if n1 == 0:  # Keine Pixel in Klasse 1\n",
    "            continue\n",
    "        mean1 = np.sum([i * h[i] for i in range(T)]) / n1  # Mittelwert Klasse 1\n",
    "        var1 = np.var([i for i in range(T) for _ in range(h[i])])  # Varianz Klasse 1\n",
    "\n",
    "        # Klasse 2: Bereich [T, 255]\n",
    "        n2 = total_pixels - n1  # Anzahl Pixel in Klasse 2\n",
    "        if n2 == 0:  # Keine Pixel in Klasse 2\n",
    "            continue\n",
    "        mean2 = np.sum([i * h[i] for i in range(T, 256)]) / n2  # Mittelwert Klasse 2\n",
    "        var2 = np.var([i for i in range(T, 256) for _ in range(h[i])])  # Varianz Klasse 2\n",
    "\n",
    "        # Gewichtete Varianz innerhalb der Klassen\n",
    "        seg = n1 * var1 + n2 * var2\n",
    "\n",
    "        # Prüfen, ob dies die minimalste Varianz ist\n",
    "        if seg < min_within_class_variance:\n",
    "            min_within_class_variance = seg\n",
    "            optimal_T = T\n",
    "\n",
    "    print(\"Optimaler Schwellenwert T:\", optimal_T)\n",
    "\n",
    "    \n",
    "    return seg"
   ]
  },
  {
   "cell_type": "markdown",
   "metadata": {},
   "source": [
    "**[Task 2.2.]()** Implement a re-usable function to compute the Dice coefficient:"
   ]
  },
  {
   "cell_type": "code",
   "execution_count": 61,
   "metadata": {},
   "outputs": [],
   "source": [
    "def compute_dice(G, H):\n",
    "    assert G.dtype == np.bool\n",
    "    assert H.dtype == np.bool\n",
    "\n",
    "    # alle true (1) addieren dür die formel\n",
    "    G_sum = G.sum()\n",
    "    H_sum = H.sum()\n",
    "\n",
    "    # ∣G ∩ H∣ aus Formel --> If G and H are the two binary images representing the sets 𝐺 and 𝐻, then“G * H” yields the binary image representing 𝐺 ∩ 𝐻.\n",
    "    # also anscheinend kann man einfach multiplizieren \n",
    "    # man muss dann noch 'and' machen\n",
    "    G_and_H = G * H\n",
    "    Schnittmenge = (G_and_H).sum()\n",
    "\n",
    "\n",
    "    #einsetzten in formel\n",
    "    Dice = (2* Schnittmenge) / (G_sum + H_sum)\n",
    "\n",
    "    print(\"Dice ist\", Dice)\n",
    "    \n",
    "    return dice\n",
    "\n",
    "\n"
   ]
  },
  {
   "cell_type": "markdown",
   "metadata": {},
   "source": [
    "**[Task 2.3.]()** Test your implementations from above:"
   ]
  },
  {
   "cell_type": "code",
   "execution_count": 69,
   "metadata": {},
   "outputs": [
    {
     "name": "stderr",
     "output_type": "stream",
     "text": [
      "/tmp/ipykernel_37741/740350600.py:6: FutureWarning: In the future `np.bool` will be defined as the corresponding NumPy scalar.\n",
      "  imgf_bin = imgf.astype(np.bool)\n"
     ]
    },
    {
     "ename": "AttributeError",
     "evalue": "module 'numpy' has no attribute 'bool'.\n`np.bool` was a deprecated alias for the builtin `bool`. To avoid this error in existing code, use `bool` by itself. Doing this will not modify any behavior and is safe. If you specifically wanted the numpy scalar type, use `np.bool_` here.\nThe aliases was originally deprecated in NumPy 1.20; for more details and guidance see the original release note at:\n    https://numpy.org/devdocs/release/1.20.0-notes.html#deprecations",
     "output_type": "error",
     "traceback": [
      "\u001b[0;31m---------------------------------------------------------------------------\u001b[0m",
      "\u001b[0;31mAttributeError\u001b[0m                            Traceback (most recent call last)",
      "Cell \u001b[0;32mIn[69], line 6\u001b[0m\n\u001b[1;32m      2\u001b[0m ground_truth \u001b[38;5;241m=\u001b[39m plt\u001b[38;5;241m.\u001b[39mimread(\u001b[38;5;124m'\u001b[39m\u001b[38;5;124mdata/NIH3T3/gt/0.png\u001b[39m\u001b[38;5;124m'\u001b[39m)\n\u001b[1;32m      4\u001b[0m \u001b[38;5;66;03m#print(otsu_thresholding(imgf))\u001b[39;00m\n\u001b[0;32m----> 6\u001b[0m imgf_bin \u001b[38;5;241m=\u001b[39m imgf\u001b[38;5;241m.\u001b[39mastype(\u001b[43mnp\u001b[49m\u001b[38;5;241;43m.\u001b[39;49m\u001b[43mbool\u001b[49m)\n\u001b[1;32m      8\u001b[0m \u001b[38;5;28mprint\u001b[39m(compute_dice(imgf_bin, ground_truth))\n\u001b[1;32m     12\u001b[0m \u001b[38;5;124;03m\"\"\"\u001b[39;00m\n\u001b[1;32m     13\u001b[0m \u001b[38;5;124;03mseg = otsu_thresholding(imgf)\u001b[39;00m\n\u001b[1;32m     14\u001b[0m \n\u001b[0;32m   (...)\u001b[0m\n\u001b[1;32m     22\u001b[0m \u001b[38;5;124;03mcompute_dice(image3)\u001b[39;00m\n\u001b[1;32m     23\u001b[0m \u001b[38;5;124;03m\"\"\"\u001b[39;00m\n",
      "File \u001b[0;32m/usr/local/lib/python3.12/site-packages/numpy/__init__.py:324\u001b[0m, in \u001b[0;36m__getattr__\u001b[0;34m(attr)\u001b[0m\n\u001b[1;32m    319\u001b[0m     warnings\u001b[38;5;241m.\u001b[39mwarn(\n\u001b[1;32m    320\u001b[0m         \u001b[38;5;124mf\u001b[39m\u001b[38;5;124m\"\u001b[39m\u001b[38;5;124mIn the future `np.\u001b[39m\u001b[38;5;132;01m{\u001b[39;00mattr\u001b[38;5;132;01m}\u001b[39;00m\u001b[38;5;124m` will be defined as the \u001b[39m\u001b[38;5;124m\"\u001b[39m\n\u001b[1;32m    321\u001b[0m         \u001b[38;5;124m\"\u001b[39m\u001b[38;5;124mcorresponding NumPy scalar.\u001b[39m\u001b[38;5;124m\"\u001b[39m, \u001b[38;5;167;01mFutureWarning\u001b[39;00m, stacklevel\u001b[38;5;241m=\u001b[39m\u001b[38;5;241m2\u001b[39m)\n\u001b[1;32m    323\u001b[0m \u001b[38;5;28;01mif\u001b[39;00m attr \u001b[38;5;129;01min\u001b[39;00m __former_attrs__:\n\u001b[0;32m--> 324\u001b[0m     \u001b[38;5;28;01mraise\u001b[39;00m \u001b[38;5;167;01mAttributeError\u001b[39;00m(__former_attrs__[attr])\n\u001b[1;32m    326\u001b[0m \u001b[38;5;28;01mif\u001b[39;00m attr \u001b[38;5;241m==\u001b[39m \u001b[38;5;124m'\u001b[39m\u001b[38;5;124mtesting\u001b[39m\u001b[38;5;124m'\u001b[39m:\n\u001b[1;32m    327\u001b[0m     \u001b[38;5;28;01mimport\u001b[39;00m \u001b[38;5;21;01mnumpy\u001b[39;00m\u001b[38;5;21;01m.\u001b[39;00m\u001b[38;5;21;01mtesting\u001b[39;00m \u001b[38;5;28;01mas\u001b[39;00m \u001b[38;5;21;01mtesting\u001b[39;00m\n",
      "\u001b[0;31mAttributeError\u001b[0m: module 'numpy' has no attribute 'bool'.\n`np.bool` was a deprecated alias for the builtin `bool`. To avoid this error in existing code, use `bool` by itself. Doing this will not modify any behavior and is safe. If you specifically wanted the numpy scalar type, use `np.bool_` here.\nThe aliases was originally deprecated in NumPy 1.20; for more details and guidance see the original release note at:\n    https://numpy.org/devdocs/release/1.20.0-notes.html#deprecations"
     ]
    }
   ],
   "source": [
    "imgf = plt.imread('data/NIH3T3/im/dna-0.png')\n",
    "ground_truth = plt.imread('data/NIH3T3/gt/0.png')\n",
    "\n",
    "#print(otsu_thresholding(imgf))\n",
    "\n",
    "imgf_bin = imgf.astype(np.bool)\n",
    "\n",
    "print(compute_dice(imgf_bin, ground_truth))\n",
    "\n",
    "\n",
    "\n",
    "\"\"\"\n",
    "seg = otsu_thresholding(imgf)\n",
    "\n",
    "imgf_bin = seg.astype(bool)\n",
    "ground_truth_bin = (ground_truth > 0).astype(bool)\n",
    "dice = computer_dice(imgf_bin, ground_truth_bin)\n",
    "\n",
    "\n",
    "\n",
    "otsu_thresholding(image3)\n",
    "compute_dice(image3)\n",
    "\"\"\""
   ]
  },
  {
   "cell_type": "markdown",
   "metadata": {},
   "source": [
    "The result should be the same as in your [otsu.ipynb](otsu.ipynb) notebook."
   ]
  },
  {
   "cell_type": "markdown",
   "metadata": {},
   "source": [
    "**[Task 2.4.]()** Perform batch processing:"
   ]
  },
  {
   "cell_type": "code",
   "execution_count": null,
   "metadata": {},
   "outputs": [],
   "source": [
    "\n"
   ]
  }
 ],
 "metadata": {
  "kernelspec": {
   "display_name": "Python 3",
   "language": "python",
   "name": "python3"
  },
  "language_info": {
   "codemirror_mode": {
    "name": "ipython",
    "version": 3
   },
   "file_extension": ".py",
   "mimetype": "text/x-python",
   "name": "python",
   "nbconvert_exporter": "python",
   "pygments_lexer": "ipython3",
   "version": "3.12.7"
  }
 },
 "nbformat": 4,
 "nbformat_minor": 4
}
